{
  "nbformat": 4,
  "nbformat_minor": 0,
  "metadata": {
    "colab": {
      "provenance": [],
      "authorship_tag": "ABX9TyMPE85xWw1wjpGN/trPKaO5",
      "include_colab_link": true
    },
    "kernelspec": {
      "name": "python3",
      "display_name": "Python 3"
    },
    "language_info": {
      "name": "python"
    }
  },
  "cells": [
    {
      "cell_type": "markdown",
      "metadata": {
        "id": "view-in-github",
        "colab_type": "text"
      },
      "source": [
        "<a href=\"https://colab.research.google.com/github/akhilasok96/Basic-Python-For-Machine-Learning/blob/main/Python_code_examples.ipynb\" target=\"_parent\"><img src=\"https://colab.research.google.com/assets/colab-badge.svg\" alt=\"Open In Colab\"/></a>"
      ]
    },
    {
      "cell_type": "markdown",
      "source": [],
      "metadata": {
        "id": "g2qCykWS8n0g"
      }
    },
    {
      "cell_type": "markdown",
      "source": [
        "## 1. Program to find largest of three numbers\n",
        "\n",
        "**Step1:** Take the inputs from user\n",
        "\n",
        "**Step2:** Find the largest number using conditions\n",
        "\n",
        "**Step3:** Print the largest number\n"
      ],
      "metadata": {
        "id": "M71fbCtRpBXZ"
      }
    },
    {
      "cell_type": "code",
      "source": [
        "num1 = int(input(\"Enter the first number: \"))\n",
        "num2 = int(input(\"Enter the second number: \"))\n",
        "num3 = int(input(\"Enter the third number: \"))\n",
        "\n",
        "if(num1 >= num2) and (num1 >= num3):\n",
        "  largest = num1\n",
        "elif(num2 >= num1) and (num2 >= num3):\n",
        "  largest = num2\n",
        "else:\n",
        "  largest = num3\n",
        "print(f\"The largest number is {largest}\")"
      ],
      "metadata": {
        "colab": {
          "base_uri": "https://localhost:8080/"
        },
        "id": "s1t3UWM88rp_",
        "outputId": "abacf8a1-6c7c-474c-e166-140e7488e675"
      },
      "execution_count": null,
      "outputs": [
        {
          "output_type": "stream",
          "name": "stdout",
          "text": [
            "Enter the first number: 23\n",
            "Enter the second number: 7\n",
            "Enter the third number: 14\n",
            "The largest number is 23\n"
          ]
        }
      ]
    },
    {
      "cell_type": "markdown",
      "source": [
        "## 2. Printing multiplication table\n",
        "\n",
        "**Step1:** Read the number from the user\n",
        "\n",
        "**Step2:** Using iteration find the multiples of the number upto 10\n",
        "\n",
        "**Step3:** print the multiples"
      ],
      "metadata": {
        "id": "yiWkBjCAR_0-"
      }
    },
    {
      "cell_type": "code",
      "source": [
        "num = int(input(\"Enter the number: \\n\"))\n",
        "\n",
        "print(\"Multiplication Table:\")\n",
        "for i in range(1,11):\n",
        "  print(f\"{num} * {i} = {num*i}\")"
      ],
      "metadata": {
        "colab": {
          "base_uri": "https://localhost:8080/"
        },
        "id": "ekNJjGFy-guP",
        "outputId": "44a5ccbc-7069-4015-a6fa-f022ab908086"
      },
      "execution_count": null,
      "outputs": [
        {
          "output_type": "stream",
          "name": "stdout",
          "text": [
            "Enter the number: \n",
            "5\n",
            "Multiplication Table:\n",
            "5 * 1 = 5\n",
            "5 * 2 = 10\n",
            "5 * 3 = 15\n",
            "5 * 4 = 20\n",
            "5 * 5 = 25\n",
            "5 * 6 = 30\n",
            "5 * 7 = 35\n",
            "5 * 8 = 40\n",
            "5 * 9 = 45\n",
            "5 * 10 = 50\n"
          ]
        }
      ]
    },
    {
      "cell_type": "markdown",
      "source": [
        "## 3. Check for sign of a number\n",
        "\n",
        "**Step1:** Read the number from the user<br>\n",
        "**Step2:** Find whether it is positive or negative using conditions<br>\n",
        "**Step3:** Print the sign"
      ],
      "metadata": {
        "id": "yo27A0UgSLMG"
      }
    },
    {
      "cell_type": "markdown",
      "source": [],
      "metadata": {
        "id": "YTW4oxjmAFle"
      }
    },
    {
      "cell_type": "code",
      "source": [
        "num = int(input(\"Enter the number: \"))\n",
        "\n",
        "if(num > 0):\n",
        "  print(\"Positive Number\")\n",
        "elif(num < 0):\n",
        "  print(\"Negative Number\")\n",
        "else:\n",
        "  print(\"Zero\")"
      ],
      "metadata": {
        "id": "AUAofAHZ_z1_",
        "colab": {
          "base_uri": "https://localhost:8080/"
        },
        "outputId": "c1d8b281-4c2e-4d74-e323-d1842cf92ae1"
      },
      "execution_count": null,
      "outputs": [
        {
          "output_type": "stream",
          "name": "stdout",
          "text": [
            "Enter the number: -6\n",
            "Negative Number\n"
          ]
        }
      ]
    },
    {
      "cell_type": "markdown",
      "source": [
        "## 4. Find surface area and volume of a cylinder\n",
        "\n",
        "Let $r$ is the base radius and $h$ is the height of a right circular cylinder.\n",
        "$$SA=2\\pi r(r+h)$$\n",
        "\n",
        "$$V=\\pi r^2 h$$\n",
        "\n",
        "**Step1:** Read the radius and height of the cylinder from the user\n",
        "\n",
        "**Step2:** Calculate the surface area using the equation\n",
        "\n",
        "**Step3:** Print the calculated surface area "
      ],
      "metadata": {
        "id": "Rr--yGIkVoaw"
      }
    },
    {
      "cell_type": "code",
      "source": [
        "#from math import pi\n",
        "pi=3.14\n",
        "r=2.6\n",
        "h=1.6\n",
        "SA=2*pi*r*(r+h)\n",
        "V=pi*r**2*h\n",
        "print((\"Surface Area is {} and Volume is {}\").format(SA,V))"
      ],
      "metadata": {
        "colab": {
          "base_uri": "https://localhost:8080/"
        },
        "id": "NP5Yahw5Wazn",
        "outputId": "512bd656-6076-477d-b21f-64458213c465"
      },
      "execution_count": null,
      "outputs": [
        {
          "output_type": "stream",
          "name": "stdout",
          "text": [
            "Surface Area is 68.57760000000002 and Volume is 33.96224\n"
          ]
        }
      ]
    },
    {
      "cell_type": "markdown",
      "source": [
        "## 5. Find area of a circle with radius $r$ using user input\n",
        "\n",
        "**Step1:** Read the radius of the circle from the user\n",
        "\n",
        "**Step2:** Calculate the area using the equation\n",
        "\n",
        "**Step3:** Print the calculated area "
      ],
      "metadata": {
        "id": "sSr3xEtuXdw-"
      }
    },
    {
      "cell_type": "code",
      "source": [
        "\"\"\"\n",
        "program to find area of a circle\n",
        "\"\"\"\n",
        "r=float(input(\"Enter the radius: \"))\n",
        "print(\"Area: \",pi*r**2)"
      ],
      "metadata": {
        "colab": {
          "base_uri": "https://localhost:8080/"
        },
        "id": "2joezx-KXljx",
        "outputId": "63915a25-f31e-4620-a799-15098c3e1802"
      },
      "execution_count": null,
      "outputs": [
        {
          "output_type": "stream",
          "name": "stdout",
          "text": [
            "Enter the radius: 5\n",
            "Area:  78.5\n"
          ]
        }
      ]
    },
    {
      "cell_type": "markdown",
      "source": [
        "## 6. Find the area of a rectangle with lenght $l$ and breadth $b$\n",
        "\n",
        "**Step1:** Read the length and breadth of the rectangle from user\n",
        "\n",
        "**Step2:** Calculate the area using the equation\n",
        "\n",
        "**Step3:** Print the calculated area "
      ],
      "metadata": {
        "id": "VRlXLlz9YD6N"
      }
    },
    {
      "cell_type": "code",
      "source": [
        "l=2;b=5.2\n",
        "Area=l*b\n",
        "print(\"Area of the Rectangle is : \",Area)"
      ],
      "metadata": {
        "colab": {
          "base_uri": "https://localhost:8080/"
        },
        "id": "tE_hVFL2YK2F",
        "outputId": "246c51b6-2fb8-48db-c8bc-f4e658afb5dd"
      },
      "execution_count": null,
      "outputs": [
        {
          "output_type": "stream",
          "name": "stdout",
          "text": [
            "Area of the Rectangle is :  10.4\n"
          ]
        }
      ]
    },
    {
      "cell_type": "markdown",
      "source": [
        "## 7. Replacing a word with another word  in a sentence\n",
        "\n",
        "Use the `replace()` method in `python`\n",
        "\n",
        ">**Syntax:**\n",
        "\n",
        "```\n",
        "str.replace(old,new)\n",
        "```\n",
        "\n",
        "**Step1:** Read the string from the user or use a hardcoded string\n",
        "\n",
        "**Step2:** Replace the word using str.replace(old,new)\n",
        "\n",
        "**Step3:** Output the updated original string"
      ],
      "metadata": {
        "id": "SP246J1XZHbk"
      }
    },
    {
      "cell_type": "code",
      "source": [
        "# program to replace a word by another word in a sentence\n",
        "\n",
        "text = 'hand ball is a hand full of hands'\n",
        "\n",
        "# replace 'hand' with 'foot'\n",
        "replaced_text = text.replace('hand ', 'foot ')\n",
        "print(replaced_text)"
      ],
      "metadata": {
        "colab": {
          "base_uri": "https://localhost:8080/"
        },
        "id": "QfIPj2_SZM6n",
        "outputId": "2e793e1a-fe46-483e-b217-bd8ac7317e28"
      },
      "execution_count": null,
      "outputs": [
        {
          "output_type": "stream",
          "name": "stdout",
          "text": [
            "foot ball is a foot full of hands\n"
          ]
        }
      ]
    },
    {
      "cell_type": "markdown",
      "source": [
        "## 8. Program to remove a word from a sentence\n",
        "\n",
        "We will use the string method `remove()`.\n",
        "\n",
        ">**Syntax:**\n",
        "\n",
        "```\n",
        "str.remove(word to be removed)\n",
        "```\n",
        "\n",
        "**Step1:** Read the string from the user or use a hardcoded string\n",
        "\n",
        "**Step2:** Read the word to be deleted from user\n",
        "\n",
        "**Step2:** Delete the word using str.replace(word,\"\")\n",
        "\n",
        "**Step3:** Output the updated original string"
      ],
      "metadata": {
        "id": "kpxkra3ZjgzQ"
      }
    },
    {
      "cell_type": "code",
      "source": [
        "# program to remove a word from a sentence\n",
        "text = input(\"Enter the String: \")\n",
        "word = input(\"Enter a Word to Delete: \")\n",
        "\n",
        "text = text.replace(word, \"\")\n",
        "print(\"The updated sentence is:\\n\")\n",
        "print(text)"
      ],
      "metadata": {
        "colab": {
          "base_uri": "https://localhost:8080/"
        },
        "id": "-bTOChg4kxRr",
        "outputId": "0df5c95f-d34e-494d-f1f1-714b74569b5f"
      },
      "execution_count": null,
      "outputs": [
        {
          "output_type": "stream",
          "name": "stdout",
          "text": [
            "Enter the String: Today is a very sunny day\n",
            "Enter a Word to Delete: sunny\n",
            "The updated sentence is:\n",
            "\n",
            "Today is a very  day\n"
          ]
        }
      ]
    },
    {
      "cell_type": "markdown",
      "source": [
        "## 9. Program to split a sentence into words\n",
        "\n",
        "use the `split()` method\n",
        ">**Syntax:**\n",
        "```\n",
        "str.split()\n",
        "```\n",
        "\n",
        "**Step1:** Read the string from the user or use a hardcoded string\n",
        "\n",
        "**Step2:** Split the string into words using str.split() and store the resultant list in a variable\n",
        "\n",
        "**Step3:** Output the resultant list containing the words"
      ],
      "metadata": {
        "id": "NRg-zTGOlVKG"
      }
    },
    {
      "cell_type": "code",
      "source": [
        "text = input(\"Enter a sentence: \")\n",
        "\n",
        "words = text.split()\n",
        "print(words)"
      ],
      "metadata": {
        "colab": {
          "base_uri": "https://localhost:8080/"
        },
        "id": "ep5o0KCyESjf",
        "outputId": "f2fc2666-5631-4d8b-8d78-b73469ff8fff"
      },
      "execution_count": null,
      "outputs": [
        {
          "output_type": "stream",
          "name": "stdout",
          "text": [
            "Enter a sentence: today is a very sunny day\n",
            "['today', 'is', 'a', 'very', 'sunny', 'day']\n"
          ]
        }
      ]
    },
    {
      "cell_type": "markdown",
      "source": [
        "## 10. Program to check if a list of words is in a long string at least one\n",
        "\n",
        "**Step1:** Define a list of words for searching in the string\n",
        "\n",
        "**Step2:** Read a string or hardcode a string to a variable\n",
        "\n",
        "**Step3:** Check if the words are present in the list atleast once using condition"
      ],
      "metadata": {
        "id": "EAo8docqnlRg"
      }
    },
    {
      "cell_type": "code",
      "source": [
        "# program to check atleat one occurance of keywords\n",
        "\n",
        "keyword_list = ['motorcycle', 'bike', 'bicycle', 'dirtbike', \"long\"]\n",
        "all_text = 'The bicycle is just as good company as most husbands and, when it gets old and shabby, a woman can dispose of it and get a new one without shocking the entire community'\n",
        "if set(keyword_list).intersection(all_text.split()):\n",
        "     print(\"Found One\")"
      ],
      "metadata": {
        "colab": {
          "base_uri": "https://localhost:8080/"
        },
        "id": "RnmT51ISnsVu",
        "outputId": "476b858c-0ea9-4a8a-c3b2-09d912e3428f"
      },
      "execution_count": null,
      "outputs": [
        {
          "output_type": "stream",
          "name": "stdout",
          "text": [
            "Found One\n"
          ]
        }
      ]
    },
    {
      "cell_type": "markdown",
      "source": [
        "## 11. program to check a number is even or odd\n",
        "\n",
        "**Step1:** Read the number from the user\n",
        "\n",
        "**Step2:** Check whether it is odd or even by using conditions\n",
        "\n",
        "**Step3:** Print if it is \"odd\" or \"even\""
      ],
      "metadata": {
        "id": "WG6KupkbovWM"
      }
    },
    {
      "cell_type": "code",
      "source": [
        "num = int(input(\"Enter the Number: \"))\n",
        "if num%2==0:\n",
        "    print(\"\\n\",num,\"is an Even Number\")\n",
        "else:\n",
        "    print(\"\\n\",num,\"is an Odd Number\")"
      ],
      "metadata": {
        "colab": {
          "base_uri": "https://localhost:8080/"
        },
        "id": "b_-2wp13o0Vo",
        "outputId": "fd46d10f-070a-4a90-adb3-cda3562bf360"
      },
      "execution_count": null,
      "outputs": [
        {
          "output_type": "stream",
          "name": "stdout",
          "text": [
            "Enter the Number: 6\n",
            "\n",
            " 6 is an Even Number\n"
          ]
        }
      ]
    },
    {
      "cell_type": "markdown",
      "source": [
        "## 12. Program to check whether an entered one is an alphabet or not\n",
        "\n",
        "**Step1:** Read the character from the user\n",
        "\n",
        "**Step2:** Check whether it is an alphabet or not by using conditions\n",
        "\n",
        "**Step3:** Print if it is an alphabet or not"
      ],
      "metadata": {
        "id": "kEo5cMDdpRlz"
      }
    },
    {
      "cell_type": "code",
      "source": [
        "c = input(\"Enter a Character: \")\n",
        "if c>='a' and c<='z':\n",
        "    print(\"\\nIt is an alphabet\")\n",
        "elif c>='A' and c<='z':\n",
        "    print(\"\\nIt is an alphabet\")\n",
        "else:\n",
        "    print(\"\\nIt is not an alphabet!\")"
      ],
      "metadata": {
        "colab": {
          "base_uri": "https://localhost:8080/"
        },
        "id": "ofx_FoHKpX_K",
        "outputId": "0ea9a223-46fb-42fa-dac6-c0bc09044604"
      },
      "execution_count": null,
      "outputs": [
        {
          "output_type": "stream",
          "name": "stdout",
          "text": [
            "Enter a Character: i\n",
            "\n",
            "It is an alphabet\n"
          ]
        }
      ]
    },
    {
      "cell_type": "markdown",
      "source": [
        "## 13. Program to check whether an entered letter is a vowel or not\n",
        "\n",
        "**Step1:** Read the character from the user\n",
        "\n",
        "**Step2:** Create a list of vowels\n",
        "\n",
        "**Step3:** Check whether the character is a vowel or not by checking if it is present in the vowels list\n",
        "\n",
        "**Step4:** Print if it is an alphabet or not"
      ],
      "metadata": {
        "id": "C4_oMf3apqzg"
      }
    },
    {
      "cell_type": "code",
      "source": [
        "c = input(\"Enter the Character: \")\n",
        "\n",
        "if c=='a' or c=='e' or c=='i' or c=='o' or c=='u':\n",
        "    print(\"\\nIt is a Vowel\")\n",
        "elif c=='A' or c=='E' or c=='I' or c=='O' or c=='U':\n",
        "    print(\"\\nIt is a Vowel\")\n",
        "else:\n",
        "    print(\"\\nIt is a Consonant\")"
      ],
      "metadata": {
        "id": "cBPy2QN5qawv",
        "colab": {
          "base_uri": "https://localhost:8080/"
        },
        "outputId": "851156ef-164e-455b-9523-f7f7a6e933cf"
      },
      "execution_count": null,
      "outputs": [
        {
          "output_type": "stream",
          "name": "stdout",
          "text": [
            "Enter the Character: k\n",
            "\n",
            "It is a Consonant\n"
          ]
        }
      ]
    },
    {
      "cell_type": "markdown",
      "source": [
        ">**Another method**\n",
        "\n",
        "using `or` expression"
      ],
      "metadata": {
        "id": "iz3TO1SAqXKh"
      }
    },
    {
      "cell_type": "code",
      "source": [
        "c = input(\"Enter the Character: \")\n",
        "\n",
        "if c=='a' or c=='e' or c=='i' or c=='o' or c=='u':\n",
        "    print(\"\\nIt is a Vowel\")\n",
        "elif c=='A' or c=='E' or c=='I' or c=='O' or c=='U':\n",
        "    print(\"\\nIt is a Vowel\")\n",
        "else:\n",
        "    print(\"\\nIt is a Consonant\")"
      ],
      "metadata": {
        "colab": {
          "base_uri": "https://localhost:8080/"
        },
        "id": "6rJ7hQV1G7ZB",
        "outputId": "72bb58e3-b61c-420c-fac0-523fe2a16b73"
      },
      "execution_count": null,
      "outputs": [
        {
          "output_type": "stream",
          "name": "stdout",
          "text": [
            "Enter the Character: a\n",
            "\n",
            "It is a Vowel\n"
          ]
        }
      ]
    },
    {
      "cell_type": "markdown",
      "source": [
        "## 14. Program to check leap year\n",
        "\n",
        "**Step1:** Read the year from the user\n",
        "\n",
        "**Step2:** Check whether the year is divisible by 4 and 400 but not 100 by using conditions\n",
        "\n",
        "**Step3:** Print if the year is leap year or not"
      ],
      "metadata": {
        "id": "xWyNWqflqt6T"
      }
    },
    {
      "cell_type": "code",
      "source": [
        "y = int(input(\"Enter the Year: \"))\n",
        "\n",
        "if y%4==0 and y%100!=0:\n",
        "    print(\"\\nIt is a Leap Year\")\n",
        "elif y%400==0:\n",
        "    print(\"\\nIt is a Leap Year\")\n",
        "else:\n",
        "    print(\"\\nIt is not a Leap Year\")"
      ],
      "metadata": {
        "colab": {
          "base_uri": "https://localhost:8080/"
        },
        "id": "08_q45cmqwj_",
        "outputId": "1681f36a-56df-4b2b-ec20-207ae83b9431"
      },
      "execution_count": null,
      "outputs": [
        {
          "output_type": "stream",
          "name": "stdout",
          "text": [
            "Enter the Year: 1996\n",
            "\n",
            "It is a Leap Year\n"
          ]
        }
      ]
    },
    {
      "cell_type": "markdown",
      "source": [
        "## Programs with iteratives"
      ],
      "metadata": {
        "id": "vz2ZLvryun46"
      }
    },
    {
      "cell_type": "markdown",
      "source": [
        "## 15. Program to check whether a number is a perfect number or not\n",
        "\n",
        "A number $n$ is called a perfect number if sum of all its divisors gives $n$.\n",
        "\n",
        "**Step1:** Read the number from user\n",
        "\n",
        "**Step2:** Find all the numbers that can divide the input number and find their sum using a for loop and conditions\n",
        "\n",
        "**Step3:** Check whether the sum is equal to the original number or not"
      ],
      "metadata": {
        "id": "wIpKRZf8rSFh"
      }
    },
    {
      "cell_type": "code",
      "source": [
        "num = int(input(\"Enter the Number:\"))\n",
        "sum = 0\n",
        "for i in range(1, num):\n",
        "  if num%i==0:\n",
        "    sum = sum+i\n",
        "if num==sum:\n",
        "  print(\"It is a Perfect Number\")\n",
        "else:\n",
        "  print(\"It is not a Perfect Number\")"
      ],
      "metadata": {
        "colab": {
          "base_uri": "https://localhost:8080/"
        },
        "id": "0iMMskGnrg67",
        "outputId": "6376650a-617d-4717-db27-9366a3d02222"
      },
      "execution_count": null,
      "outputs": [
        {
          "output_type": "stream",
          "name": "stdout",
          "text": [
            "Enter the Number:496\n",
            "It is a Perfect Number\n"
          ]
        }
      ]
    },
    {
      "cell_type": "markdown",
      "source": [
        "# 16. Program to list all perfect number below a limit\n",
        "\n",
        "**Step1:** Read the limit from user\n",
        "\n",
        "**Step2:** Using nested loops find the numbers within that limit that are perfect numbers and add them to an already created empty list\n",
        "\n",
        "**Step3:** Output the list of perfect numbers"
      ],
      "metadata": {
        "id": "KgVflmd5IQMr"
      }
    },
    {
      "cell_type": "code",
      "source": [
        "## Program to list all perfect number below a limit\n",
        "num = int(input(\"Enter the limit:\"))\n",
        "print(\"Perfect numbers are:\")\n",
        "print(\"***\"*10)\n",
        "pn=[]\n",
        "for n in range(1,num):\n",
        "  sum = 0\n",
        "  for i in range(1, n):\n",
        "    if n%i==0:\n",
        "      sum = sum+i\n",
        "  if n==sum:\n",
        "    pn.append(n)\n",
        "print(pn)\n",
        "  "
      ],
      "metadata": {
        "colab": {
          "base_uri": "https://localhost:8080/"
        },
        "id": "S5VM67CIrvS8",
        "outputId": "3aac5011-e04a-4a00-e41e-038ef0b06288"
      },
      "execution_count": null,
      "outputs": [
        {
          "output_type": "stream",
          "name": "stdout",
          "text": [
            "Enter the limit:100\n",
            "Perfect numbers are:\n",
            "******************************\n",
            "[6, 28]\n"
          ]
        }
      ]
    },
    {
      "cell_type": "markdown",
      "source": [
        "## 17. Program to test whether reversal of a number is same as itself\n",
        "\n",
        "**Step1:** Read the number from user\n",
        "\n",
        "**Step2:** Assign the value of the number to another variable\n",
        "\n",
        "**Step3:** Find the reverse of the number by using conditions, modulus and floor division operators\n",
        "\n",
        "**Step4:** Check if the reversed number and the original number are same or not and output the result"
      ],
      "metadata": {
        "id": "azoRFThntacI"
      }
    },
    {
      "cell_type": "code",
      "source": [
        "num = int(input(\"Enter the Number: \"))\n",
        "rev = 0\n",
        "orig = num\n",
        "while num>0:\n",
        "    rem = num%10\n",
        "    rev = rem + (rev*10)\n",
        "    num = num//10\n",
        "\n",
        "if orig==rev:\n",
        "    print(\"\\nThe Number is Equal to Its Reverse\")\n",
        "else:\n",
        "    print(\"\\nThe Number is not Equal to Its Reverse\")"
      ],
      "metadata": {
        "colab": {
          "base_uri": "https://localhost:8080/"
        },
        "id": "FaadzWp8tgfb",
        "outputId": "270ffb79-8604-4800-c848-8f6ae0841510"
      },
      "execution_count": null,
      "outputs": [
        {
          "output_type": "stream",
          "name": "stdout",
          "text": [
            "Enter the Number: 151\n",
            "\n",
            "The Number is Equal to Its Reverse\n"
          ]
        }
      ]
    },
    {
      "cell_type": "markdown",
      "source": [
        "## 18. program to count the number of digits in a number\n",
        "\n",
        "**Step1:** Read the number from user\n",
        "\n",
        "**Step2:** Create a new variable count and set it to zero\n",
        "\n",
        "**Step3:** Using a while loop, modulus and floor division operator find the count of digits and increment the count variable value by 1 each time\n",
        "\n",
        "**Step4:** Print the count value"
      ],
      "metadata": {
        "id": "E0ygCvykuNkH"
      }
    },
    {
      "cell_type": "code",
      "source": [
        "num = int(input(\"Enter the Number: \"))\n",
        "tot = 0\n",
        "\n",
        "while num:\n",
        "  num = num//10\n",
        "  tot = tot+1\n",
        "\n",
        "print(\"\\nTotal Digit: \")\n",
        "print(tot)"
      ],
      "metadata": {
        "colab": {
          "base_uri": "https://localhost:8080/"
        },
        "id": "bKiuShhFr1HD",
        "outputId": "6af64f1e-d610-4214-b065-a77361ef82c4"
      },
      "execution_count": null,
      "outputs": [
        {
          "output_type": "stream",
          "name": "stdout",
          "text": [
            "Enter the Number: 4566\n",
            "\n",
            "Total Digit: \n",
            "4\n"
          ]
        }
      ]
    },
    {
      "cell_type": "markdown",
      "source": [
        "## 19. Program to find sum of digits in a number\n",
        "\n",
        "**Step1:** Read the number from user\n",
        "\n",
        "**Step2:** Create a new variable sum and set it to zero\n",
        "\n",
        "**Step3:** Using a while loop, modulus and floor division operator find the digits and add it to the sum variable\n",
        "\n",
        "**Step4:** Print the sum variable"
      ],
      "metadata": {
        "id": "LCpDPbkxuv0K"
      }
    },
    {
      "cell_type": "code",
      "source": [
        "num = int(input(\"Enter a Number\"))\n",
        "sum = 0\n",
        "while num>0:\n",
        "    rem = num%10\n",
        "    sum = sum+rem\n",
        "    num = num//10\n",
        "print(\"\\nSum of Digits of Given Number: \", sum)"
      ],
      "metadata": {
        "colab": {
          "base_uri": "https://localhost:8080/"
        },
        "id": "4Uy1GdK4u0Ik",
        "outputId": "76558dd2-5167-418a-cecf-1ebbd41fe685"
      },
      "execution_count": null,
      "outputs": [
        {
          "output_type": "stream",
          "name": "stdout",
          "text": [
            "Enter a Number578\n",
            "\n",
            "Sum of Digits of Given Number:  20\n"
          ]
        }
      ]
    },
    {
      "cell_type": "markdown",
      "source": [
        "### 20. Program to find the sum of first and last digit of a number\n",
        "\n",
        "**Step1:** Read the number from user\n",
        "\n",
        "**Step2:** Create a new variable count and set it to zero\n",
        "\n",
        "**Step3:** Using a while loop, modulus and floor division operator find the first and last digits and calculate the sum\n",
        "\n",
        "**Step4:** Print the sum "
      ],
      "metadata": {
        "id": "u0mGKD8zvTE2"
      }
    },
    {
      "cell_type": "code",
      "source": [
        "num = int(input(\"Enter a Number: \"))\n",
        "\n",
        "count = 0\n",
        "while num!=0:\n",
        "    if count==0:\n",
        "        last = num%10\n",
        "        count = count+1\n",
        "    rem = num%10\n",
        "    num = int(num/10)\n",
        "\n",
        "sum = rem + last\n",
        "print(\"\\nSum of first and last digit =\", sum)"
      ],
      "metadata": {
        "id": "CSriuS_ivY6A",
        "colab": {
          "base_uri": "https://localhost:8080/"
        },
        "outputId": "9dd2d5ce-a372-46d5-b56e-cb15e7687981"
      },
      "execution_count": null,
      "outputs": [
        {
          "output_type": "stream",
          "name": "stdout",
          "text": [
            "Enter a Number: 458\n",
            "\n",
            "Sum of first and last digit = 12\n"
          ]
        }
      ]
    },
    {
      "cell_type": "markdown",
      "source": [
        "## 21. Program to print first and last digit of a number\n",
        "\n",
        "\n",
        "**Step1:** Read the number from user\n",
        "\n",
        "**Step2:** Create a new variable count and set it to zero\n",
        "\n",
        "**Step3:** Using a while loop, modulus and floor division operator find the first and last digits and add it to a list\n",
        "\n",
        "**Step4:** Print the list containing first and last digits"
      ],
      "metadata": {
        "id": "smVhW0qbvOO0"
      }
    },
    {
      "cell_type": "code",
      "source": [
        "num = int(input(\"Enter a Number: \"))\n",
        "org=num\n",
        "count = 0\n",
        "while num!=0:\n",
        "    if count==0:\n",
        "        last = num%10\n",
        "        count = count+1\n",
        "    rem = num%10\n",
        "    num = num//10\n",
        "FL=[rem,last]\n",
        "print(\"\\nThe first and last digit of \", org ,\" are: \", FL)"
      ],
      "metadata": {
        "colab": {
          "base_uri": "https://localhost:8080/"
        },
        "id": "1_Z5qGQUvgou",
        "outputId": "ecb678a5-bcc0-4011-93fe-975600bc3f66"
      },
      "execution_count": null,
      "outputs": [
        {
          "output_type": "stream",
          "name": "stdout",
          "text": [
            "Enter a Number: 7895\n",
            "\n",
            "The first and last digit of  7895  are:  [7, 5]\n"
          ]
        }
      ]
    },
    {
      "cell_type": "markdown",
      "source": [
        "## 22. Python program to display even and odd members in a tuple\n",
        "\n",
        "**Step1:** Create two empty lists for odd and even members\n",
        "\n",
        "**Step2:** Create a tuple\n",
        "\n",
        "**Step3:** Iterate over the tuple and add thoes memebers to their respective list(either odd or even)\n",
        "\n",
        "**Step4:** Print both the lists"
      ],
      "metadata": {
        "id": "R-_QxAxvzqHJ"
      }
    },
    {
      "cell_type": "code",
      "source": [
        "\"\"\"\n",
        "Python Program:\n",
        " Using slice [] operator to iterate over a specific parts of a tuple to print odd and even members\n",
        "\"\"\"\n",
        "even=[];odd=[]\n",
        "tuple_created = (\"p\", \"r\", \"o\", \"g\", \"r\", \"a\", \"m\", \"i\", \"z\")\n",
        "for char in tuple_created[ :  : 2]:\n",
        "   even.append(char)\n",
        "for char in tuple_created[1 :  : 2]:\n",
        "   odd.append(char)\n",
        "print(\"Even members: \",even,\"\\nOdd members: \",odd)\n"
      ],
      "metadata": {
        "colab": {
          "base_uri": "https://localhost:8080/"
        },
        "id": "vuDNoBYXzweI",
        "outputId": "d0634350-b06c-4257-cb92-519c19af9935"
      },
      "execution_count": null,
      "outputs": [
        {
          "output_type": "stream",
          "name": "stdout",
          "text": [
            "Even members:  ['p', 'o', 'r', 'm', 'z'] \n",
            "Odd members:  ['r', 'g', 'a', 'i']\n"
          ]
        }
      ]
    },
    {
      "cell_type": "markdown",
      "source": [
        "## 23. Program to create  a book shop stock register using python dictionary\n",
        "\n",
        "**Step1:** Read the number of books from the user\n",
        "\n",
        "**Step2:** Create a dictionary for books\n",
        "\n",
        "**Step3:** Add the titles and number of copies for each book to the dictionary using a for loop\n",
        "\n",
        "**Step4:** Read the choice of whether to sell a book and read the book title and updated the books dictionary"
      ],
      "metadata": {
        "id": "Fdk3KUDi2uIB"
      }
    },
    {
      "cell_type": "code",
      "source": [
        "n = eval(input('Num books: '))\n",
        "books = {}\n",
        "for i in range(n):\n",
        "    titlez = input(\"Enter Title: \")\n",
        "    ncopy = eval(input(\"Num of copies: \"))\n",
        "    books[titlez] = ncopy\n",
        "\n",
        "prob = input('Sell a book; enter YES or NO: ')\n",
        "if prob == 'YES' or 'yes':\n",
        "    choice = input('Enter book title: ')\n",
        "    if choice in books:\n",
        "        init_num = books[choice]\n",
        "        init_num -= 1\n",
        "        books[choice] = init_num\n",
        "        print(books)"
      ],
      "metadata": {
        "colab": {
          "base_uri": "https://localhost:8080/"
        },
        "id": "raSpV8kR284D",
        "outputId": "605bf10f-6661-4c34-f269-8e3fd8a7d111"
      },
      "execution_count": null,
      "outputs": [
        {
          "output_type": "stream",
          "name": "stdout",
          "text": [
            "Num books: 2\n",
            "Enter Title: Harry Potter\n",
            "Num of copies: 5\n",
            "Enter Title: Deception Point\n",
            "Num of copies: 2\n",
            "Sell a book; enter YES or NO: YES\n",
            "Enter book title: Harry Potter\n",
            "{'Harry Potter': 4, 'Deception Point': 2}\n"
          ]
        }
      ]
    }
  ]
}